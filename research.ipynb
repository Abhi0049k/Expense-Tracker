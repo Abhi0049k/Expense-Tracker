{
 "cells": [
  {
   "cell_type": "code",
   "execution_count": 2,
   "id": "35f95f6e",
   "metadata": {},
   "outputs": [],
   "source": [
    "from enum import Enum"
   ]
  },
  {
   "cell_type": "code",
   "execution_count": 28,
   "id": "03f34524",
   "metadata": {},
   "outputs": [],
   "source": [
    "class Type(Enum):\n",
    "    FOOD_AND_DRINKS = \"foods_and_drinks\"\n",
    "    BILLS_AND_UTILITIES = \"bills_and_utilities\"\n",
    "    INVESTMENT = \"investment\"\n",
    "    TRANSPORTATION = \"transportation\"\n",
    "    SHOPPING = \"shopping\"\n",
    "    MEDICAL = \"medical\"\n",
    "    EDUCATION = \"education\" \n",
    "    TAXES = \"taxes\" \n",
    "    INSURANCE = \"insurance\""
   ]
  },
  {
   "cell_type": "code",
   "execution_count": null,
   "id": "62fd54da",
   "metadata": {},
   "outputs": [],
   "source": [
    "class Cashflow_Type(Enum):\n",
    "    INCOME = \"income\" \n",
    "    EXPENSE = \"expense\""
   ]
  },
  {
   "cell_type": "code",
   "execution_count": 30,
   "id": "97dc745e",
   "metadata": {},
   "outputs": [],
   "source": [
    "from datetime import datetime\n",
    "class Transaction:\n",
    "    def __init__(self, amt, title, cashflow_t, type):\n",
    "        now = datetime.now()\n",
    "        self.amount = amt;\n",
    "        self.title = title;\n",
    "        self.date = now.date();\n",
    "        self.time = now.time();\n",
    "        self.cashflow_type = cashflow_t;\n",
    "        self.type = type;\n",
    "        "
   ]
  },
  {
   "cell_type": "code",
   "execution_count": 31,
   "id": "6522e2dd",
   "metadata": {},
   "outputs": [],
   "source": [
    "trans1 = Transaction(190, \"Kuska and Grilled Chicken\", Cashflow_Type.EXPENSE, Type.FOOD_AND_DRINKS)"
   ]
  },
  {
   "cell_type": "code",
   "execution_count": 35,
   "id": "76b924e9",
   "metadata": {},
   "outputs": [
    {
     "name": "stdout",
     "output_type": "stream",
     "text": [
      "\n",
      "      Kuska and Grilled Chicken\n",
      "      190\n",
      "      2025-05-17\n",
      "      15:57:12.879949\n",
      "      Cashflow_Type.EXPENSE\n",
      "      Type.FOOD_AND_DRINKS\n"
     ]
    }
   ],
   "source": [
    "print(f\"\"\"\n",
    "      {trans1.title}\n",
    "      {trans1.amount}\n",
    "      {trans1.date}\n",
    "      {trans1.time}\n",
    "      {trans1.cashflow_type}\n",
    "      {trans1.type}\"\"\")"
   ]
  },
  {
   "cell_type": "code",
   "execution_count": 38,
   "id": "346e5c1b",
   "metadata": {},
   "outputs": [],
   "source": [
    "from tracker.utils import *"
   ]
  },
  {
   "cell_type": "code",
   "execution_count": 39,
   "id": "745ca7ac",
   "metadata": {},
   "outputs": [
    {
     "name": "stdout",
     "output_type": "stream",
     "text": [
      "Hello World\n"
     ]
    }
   ],
   "source": [
    "logging()"
   ]
  },
  {
   "cell_type": "code",
   "execution_count": null,
   "id": "6eb6aeb6",
   "metadata": {},
   "outputs": [],
   "source": [
    "import ast\n",
    "lst = []"
   ]
  },
  {
   "cell_type": "code",
   "execution_count": 51,
   "id": "8f9780bd",
   "metadata": {},
   "outputs": [
    {
     "name": "stdout",
     "output_type": "stream",
     "text": [
      "[{'name': 'lucknow'}]\n"
     ]
    }
   ],
   "source": [
    "with open(\"data.json\", \"r\") as f:\n",
    "    # file = f.read()\n",
    "    file = ast.literal_eval(f.read())\n",
    "    print(file)\n",
    "    lst = file"
   ]
  },
  {
   "cell_type": "code",
   "execution_count": 52,
   "id": "4e4b5e44",
   "metadata": {},
   "outputs": [
    {
     "data": {
      "text/plain": [
       "[{'name': 'lucknow'}]"
      ]
     },
     "execution_count": 52,
     "metadata": {},
     "output_type": "execute_result"
    }
   ],
   "source": [
    "lst"
   ]
  },
  {
   "cell_type": "code",
   "execution_count": 59,
   "id": "d2675e15",
   "metadata": {},
   "outputs": [
    {
     "name": "stdout",
     "output_type": "stream",
     "text": [
      "qwerty,asdfghj,zxcvbnm\n",
      "poiuyt,lkjh,mnb\n"
     ]
    }
   ],
   "source": [
    "with open(\"qwerty.csv\", \"r\") as f:\n",
    "    file = f.read()\n",
    "    print(file)"
   ]
  },
  {
   "cell_type": "code",
   "execution_count": 1,
   "id": "71d1c7aa",
   "metadata": {},
   "outputs": [],
   "source": [
    "from tracker.utils import load_transactions"
   ]
  },
  {
   "cell_type": "code",
   "execution_count": 3,
   "id": "0959e731",
   "metadata": {},
   "outputs": [],
   "source": [
    "class Finance_Tracker:\n",
    "    def __init__(self):\n",
    "        self.transactions = load_transactions()\n",
    "    "
   ]
  },
  {
   "cell_type": "code",
   "execution_count": 4,
   "id": "77c760e0",
   "metadata": {},
   "outputs": [
    {
     "ename": "NameError",
     "evalue": "name 'file_content' is not defined",
     "output_type": "error",
     "traceback": [
      "\u001b[1;31m---------------------------------------------------------------------------\u001b[0m",
      "\u001b[1;31mNameError\u001b[0m                                 Traceback (most recent call last)",
      "Cell \u001b[1;32mIn[4], line 1\u001b[0m\n\u001b[1;32m----> 1\u001b[0m obj\u001b[38;5;241m=\u001b[39m Finance_Tracker()\n",
      "Cell \u001b[1;32mIn[3], line 3\u001b[0m, in \u001b[0;36mFinance_Tracker.__init__\u001b[1;34m(self)\u001b[0m\n\u001b[0;32m      2\u001b[0m \u001b[38;5;28;01mdef\u001b[39;00m \u001b[38;5;21m__init__\u001b[39m(\u001b[38;5;28mself\u001b[39m):\n\u001b[1;32m----> 3\u001b[0m     \u001b[38;5;28mself\u001b[39m\u001b[38;5;241m.\u001b[39mtransactions \u001b[38;5;241m=\u001b[39m load_transactions()\n",
      "File \u001b[1;32me:\\Data Science\\env01\\11-05-2025\\Expense Tracker\\tracker\\utils.py:8\u001b[0m, in \u001b[0;36mload_transactions\u001b[1;34m()\u001b[0m\n\u001b[0;32m      6\u001b[0m \u001b[38;5;28;01mwith\u001b[39;00m \u001b[38;5;28mopen\u001b[39m(\u001b[38;5;124m\"\u001b[39m\u001b[38;5;124mtransaction.csv\u001b[39m\u001b[38;5;124m\"\u001b[39m, \u001b[38;5;124m\"\u001b[39m\u001b[38;5;124mr\u001b[39m\u001b[38;5;124m\"\u001b[39m) \u001b[38;5;28;01mas\u001b[39;00m f:\n\u001b[0;32m      7\u001b[0m     transactions \u001b[38;5;241m=\u001b[39m f\u001b[38;5;241m.\u001b[39mread();\n\u001b[1;32m----> 8\u001b[0m     \u001b[38;5;28;01mreturn\u001b[39;00m file_content\n",
      "\u001b[1;31mNameError\u001b[0m: name 'file_content' is not defined"
     ]
    }
   ],
   "source": [
    "obj= Finance_Tracker()"
   ]
  },
  {
   "cell_type": "code",
   "execution_count": 22,
   "id": "1b42ccd1",
   "metadata": {},
   "outputs": [],
   "source": [
    "with open(\"transaction.csv\", \"w\") as f:\n",
    "    f.write(\"\"\"id,amount,title,date,time,cashflow_type,category\n",
    "1,2500.00,Salary,2025-05-01,09:00:00,income,investment\n",
    "2,120.75,Grocery Shopping,2025-05-02,18:30:00,expense,foods_and_drinks\n",
    "3,999.99,Health Checkup,2025-05-03,10:45:00,expense,medical\n",
    "4,160.00,Metro Card Recharge,2025-05-04,08:15:00,expense,transportation\n",
    "5,200.00,Electricity Bill,2025-05-05,19:00:00,expense,bills_and_utilities\n",
    "6,150.00,Online Course,2025-05-06,20:10:00,expense,education\n",
    "7,600.00,Tax Refund,2025-05-07,14:20:00,income,taxes\n",
    "8,300.00,Insurance Claim,2025-05-08,11:00:00,income,insurance\n",
    "9,459.99,Clothing,2025-05-09,17:25:00,expense,shopping\n",
    "10,125.50,Freelance Work,2025-05-10,22:00:00,income,investment\n",
    "\"\"\")"
   ]
  },
  {
   "cell_type": "code",
   "execution_count": 19,
   "id": "464c1142",
   "metadata": {},
   "outputs": [
    {
     "name": "stdout",
     "output_type": "stream",
     "text": [
      "{'amount': '120.75', 'title': 'Grocery Shopping', 'type': 'expense', 'category': 'foods_and_drinks'}\n",
      "{'amount': '999.99', 'title': 'Health Checkup', 'type': 'expense', 'category': 'medical'}\n",
      "{'amount': '160.00', 'title': 'Metro Card Recharge', 'type': 'expense', 'category': 'transportation'}\n",
      "{'amount': '200.00', 'title': 'Electricity Bill', 'type': 'expense', 'category': 'bills_and_utilities'}\n",
      "{'amount': '150.00', 'title': 'Online Course', 'type': 'expense', 'category': 'education'}\n",
      "{'amount': '600.00', 'title': 'Tax Refund', 'type': 'income', 'category': 'taxes'}\n",
      "{'amount': '300.00', 'title': 'Insurance Claim', 'type': 'income', 'category': 'insurance'}\n",
      "{'amount': '459.99', 'title': 'Clothing', 'type': 'expense', 'category': 'shopping'}\n",
      "{'amount': '125.50', 'title': 'Freelance Work', 'type': 'income', 'category': 'investment'}\n"
     ]
    }
   ],
   "source": [
    "transactions = []\n",
    "with open(\"transaction.csv\", \"r\") as f:\n",
    "    content = f.readlines();\n",
    "    for line in content: \n",
    "        obj = line.split(\",\")\n",
    "        if len(obj) == 4:\n",
    "            if '\\n' in obj[3][-1]:\n",
    "                obj[3] = obj[3][:-1]\n",
    "            transactions.append({\"amount\": obj[0], \"title\": obj[1], \"type\": obj[2], \"category\": obj[3]})\n",
    "for i in range(1, len(transactions)):\n",
    "    print(transactions[i])"
   ]
  },
  {
   "cell_type": "code",
   "execution_count": 21,
   "id": "760192bb",
   "metadata": {},
   "outputs": [
    {
     "data": {
      "text/plain": [
       "[{'amount': '120.75',\n",
       "  'title': 'Grocery Shopping',\n",
       "  'type': 'expense',\n",
       "  'category': 'foods_and_drinks'},\n",
       " {'amount': '999.99',\n",
       "  'title': 'Health Checkup',\n",
       "  'type': 'expense',\n",
       "  'category': 'medical'},\n",
       " {'amount': '160.00',\n",
       "  'title': 'Metro Card Recharge',\n",
       "  'type': 'expense',\n",
       "  'category': 'transportation'},\n",
       " {'amount': '200.00',\n",
       "  'title': 'Electricity Bill',\n",
       "  'type': 'expense',\n",
       "  'category': 'bills_and_utilities'},\n",
       " {'amount': '150.00',\n",
       "  'title': 'Online Course',\n",
       "  'type': 'expense',\n",
       "  'category': 'education'},\n",
       " {'amount': '600.00',\n",
       "  'title': 'Tax Refund',\n",
       "  'type': 'income',\n",
       "  'category': 'taxes'},\n",
       " {'amount': '300.00',\n",
       "  'title': 'Insurance Claim',\n",
       "  'type': 'income',\n",
       "  'category': 'insurance'},\n",
       " {'amount': '459.99',\n",
       "  'title': 'Clothing',\n",
       "  'type': 'expense',\n",
       "  'category': 'shopping'},\n",
       " {'amount': '125.50',\n",
       "  'title': 'Freelance Work',\n",
       "  'type': 'income',\n",
       "  'category': 'investment'}]"
      ]
     },
     "execution_count": 21,
     "metadata": {},
     "output_type": "execute_result"
    }
   ],
   "source": [
    "transactions[1:]"
   ]
  },
  {
   "cell_type": "code",
   "execution_count": 6,
   "id": "c4a8733f",
   "metadata": {},
   "outputs": [],
   "source": [
    "from datetime import datetime\n",
    "from enum import Enum\n",
    "\n",
    "class Category(Enum):\n",
    "    FOOD = \"food\"\n",
    "    DRINKS = \"drinks\"\n",
    "    BILLS = \"bills\"\n",
    "    UTILITIES = \"utilities\"\n",
    "    INVESTMENT = \"investment\"\n",
    "    TRANSPORTATION = \"transportation\"\n",
    "    SHOPPING = \"shopping\"\n",
    "    MEDICAL = \"medical\"\n",
    "    EDUCATION = \"education\" \n",
    "    TAXES = \"taxes\" \n",
    "    INSURANCE = \"insurance\"\n",
    "    SALARY = \"salary\"\n",
    "    \n",
    "class Cashflow_Type(Enum):\n",
    "    INCOME = \"income\" \n",
    "    EXPENSE = \"expense\"\n",
    "\n",
    "class Transaction:\n",
    "    def __init__(self, id, amt, title, cashflow_t, category):\n",
    "        now = datetime.now()\n",
    "        self.__id = id\n",
    "        self.__amount = amt;\n",
    "        self.__title = title;\n",
    "        self.__date = now.date();\n",
    "        self.__time = now.time();\n",
    "        self.__cashflow_type = cashflow_t;\n",
    "        self.__category = category;\n",
    "        \n",
    "    def __repr__(self):\n",
    "        return f\"{self.__title}: {self.__amount} | {self.__cashflow_type.value.title()} | {self.__category.value.replace(\"_\", \" \").title()} | {self.__date} {self.__time}\"\n",
    "    \n",
    "    @property\n",
    "    def id(self):\n",
    "        return self.__id\n",
    "    \n",
    "    @property\n",
    "    def title(self):\n",
    "        return self.__title\n",
    "    \n",
    "    @title.setter\n",
    "    def title(self):\n",
    "        new_title = input(\"Enter title: \")\n",
    "        if not new_title:\n",
    "            raise ValueError(\"Title cannot be empty!\")\n",
    "        self.title = new_title\n",
    "        print(\"Title updated Successfully!\")\n",
    "    \n",
    "    @property\n",
    "    def amount(self):\n",
    "        return self.__amount\n",
    "    \n",
    "    @amount.setter\n",
    "    def amount(self, amt):\n",
    "        if not amt:\n",
    "            raise ValueError(\"Amount cannot be empty!\")\n",
    "        self.__amount = amt  \n",
    "    \n",
    "    @property\n",
    "    def cashflow_type(self):\n",
    "        return self.__cashflow_type.value.title()\n",
    "        # return self.__cashflow_type\n",
    "    \n",
    "    @cashflow_type.setter\n",
    "    def cashflow_type(self, cft):\n",
    "        if not isinstance(cft, Cashflow_Type):\n",
    "            raise ValueError(\"Cashflow type must be an instance of cashflow type enum!\")\n",
    "        self.__cashflow_type = cft\n",
    "    \n",
    "    @property \n",
    "    def category(self):\n",
    "        return self.__category.value.replace(\"_\", \" \").title()\n",
    "        # return self.__category\n",
    "    \n",
    "    @category.setter \n",
    "    def category(self, cgt):\n",
    "        if not isinstance(cgt, Category):\n",
    "            raise ValueError(\"Category must be an instance of Category type enum!\")\n",
    "        self.__category = cgt\n",
    "    \n",
    "    @property\n",
    "    def date(self):\n",
    "        return self.__date\n",
    "    \n",
    "    @property\n",
    "    def time(self):\n",
    "        return self.__time"
   ]
  },
  {
   "cell_type": "code",
   "execution_count": 79,
   "id": "a062562e",
   "metadata": {},
   "outputs": [],
   "source": [
    "t1 = Transaction(1, 190, \"Chicken Biryani\", Cashflow_Type.EXPENSE, Category.FOOD_AND_DRINKS)"
   ]
  },
  {
   "cell_type": "code",
   "execution_count": 80,
   "id": "0900083e",
   "metadata": {},
   "outputs": [
    {
     "data": {
      "text/plain": [
       "Chicken Biryani: 190 | Expense | Foods And Drinks | 2025-05-18 12:43:43.062195"
      ]
     },
     "execution_count": 80,
     "metadata": {},
     "output_type": "execute_result"
    }
   ],
   "source": [
    "t1"
   ]
  },
  {
   "cell_type": "code",
   "execution_count": 81,
   "id": "7ffc1dcd",
   "metadata": {},
   "outputs": [],
   "source": [
    "with open(\"transaction.csv\", \"w\") as f:\n",
    "    f.write(f\"ID,Title,Amount,Cashflow_Type,Category,Date,Time\\n\")"
   ]
  },
  {
   "cell_type": "code",
   "execution_count": 82,
   "id": "32a0cb44",
   "metadata": {},
   "outputs": [],
   "source": [
    "with open(\"transaction.csv\", \"a\") as f:\n",
    "    f.write(f\"{t1.id},{t1.title},{t1.amount},{t1.cashflow_type},{t1.category},{t1.date},{t1.time}\\n\")"
   ]
  },
  {
   "cell_type": "code",
   "execution_count": null,
   "id": "a9bbcf5f",
   "metadata": {},
   "outputs": [],
   "source": [
    "def load_transactions():\n",
    "    transactions = []\n",
    "    with open(\"transaction.csv\", \"r\") as f:\n",
    "        content = f.read();\n",
    "        content = content.strip().split('\\n')\n",
    "        for line in content[1: ]: \n",
    "            obj = line.strip().split(\",\")\n",
    "            print(\"Obj: \", obj)\n",
    "            transactions.append({\"id\": obj[0], \"amount\": obj[2], \"title\": obj[1], \"date\": obj[5],\"time\":obj[6],\"cashflow_type\":obj[3], \"category\": obj[4]})\n",
    "    return transactions"
   ]
  },
  {
   "cell_type": "code",
   "execution_count": 108,
   "id": "67024abb",
   "metadata": {},
   "outputs": [
    {
     "name": "stdout",
     "output_type": "stream",
     "text": [
      "Obj:  ['1', 'Chicken Biryani', '190', 'Expense', 'Foods And Drinks', '2025-05-18', '12:43:43.062195']\n",
      "[{'id': '1', 'amount': '190', 'title': 'Chicken Biryani', 'date': '2025-05-18', 'time': '12:43:43.062195', 'cashflow_type': 'Expense', 'category': 'Foods And Drinks'}]\n"
     ]
    }
   ],
   "source": [
    "load_transactions()"
   ]
  },
  {
   "cell_type": "code",
   "execution_count": 109,
   "id": "b37703b9",
   "metadata": {},
   "outputs": [
    {
     "data": {
      "text/plain": [
       "'hello world'"
      ]
     },
     "execution_count": 109,
     "metadata": {},
     "output_type": "execute_result"
    }
   ],
   "source": [
    "\"Hello World\".lower()"
   ]
  },
  {
   "cell_type": "code",
   "execution_count": null,
   "id": "88c57540",
   "metadata": {},
   "outputs": [],
   "source": [
    "def add_transaction():\n",
    "    note = input(\"Enter a note about the transaction: \");\n",
    "    amt = input(\"Enter amount spend: \")\n",
    "    try: \n",
    "        c_type = input(\"Enter type of transaction [Income/Expense]: \");\n",
    "        c_type = c_type.lower()\n",
    "        if c_type in Cashflow_Type.INCOME.value:\n",
    "            c_type = Cashflow_Type.INCOME.value\n",
    "        elif c_type in Cashflow_Type.EXPENSE.value:\n",
    "            c_type = Cashflow_Type.EXPENSE.value\n",
    "        else:\n",
    "            raise ValueError(\"Transaction type should be of either Income type or expense type\")\n",
    "        print(c_type)\n",
    "    except Exception as e:\n",
    "        print(e)\n",
    "        \n",
    "    try:\n",
    "        cgt = input(\"Enter category of the transaction [investment/food/taxes/bills/utilites...]: \")\n",
    "        cgt = cgt.lower()\n",
    "        if cgt in Category.FOOD.value:\n",
    "            cgt = Category.FOOD.value\n",
    "        elif cgt in Category.DRINKS.value:\n",
    "            cgt = Category.DRINKS.value\n",
    "        elif cgt in Category.BILLS.value:\n",
    "            cgt = Category.BILLS.value\n",
    "        elif cgt in Category.UTILITIES.value:\n",
    "            cgt = Category.UTILITIES.value\n",
    "        elif cgt in Category.INVESTMENT.value:\n",
    "            cgt = Category.INVESTMENT.value\n",
    "        elif cgt in Category.TRANSPORTATION.value:\n",
    "            cgt = Category.TRANSPORTATION.value\n",
    "        elif cgt in Category.SHOPPING.value:\n",
    "            cgt = Category.SHOPPING.value\n",
    "        elif cgt in Category.MEDICAL.value:\n",
    "            cgt = Category.MEDICAL.value\n",
    "        elif cgt in Category.EDUCATION.value:\n",
    "            cgt = Category.EDUCATION.value\n",
    "        elif cgt in Category.TAXES.value:\n",
    "            cgt = Category.TAXES.value\n",
    "        elif cgt in Category.INSURANCE.value:\n",
    "            cgt = Category.INSURANCE.value\n",
    "        elif cgt in Category.SALARY.value:\n",
    "            cgt = Category.SALARY.value\n",
    "    except Exception as e:\n",
    "        print(e)  \n",
    "    print(amt, note, cgt, c_type)"
   ]
  },
  {
   "cell_type": "code",
   "execution_count": 10,
   "id": "759d539f",
   "metadata": {},
   "outputs": [
    {
     "name": "stdout",
     "output_type": "stream",
     "text": [
      "expense\n",
      "190 chicken biryani Category.FOOD expense\n"
     ]
    }
   ],
   "source": [
    "add_transaction()"
   ]
  },
  {
   "cell_type": "code",
   "execution_count": 1,
   "id": "8328352d",
   "metadata": {},
   "outputs": [],
   "source": [
    "from tracker.utils import get_cashflow_type, get_category"
   ]
  },
  {
   "cell_type": "code",
   "execution_count": 2,
   "id": "f8884345",
   "metadata": {},
   "outputs": [
    {
     "name": "stdout",
     "output_type": "stream",
     "text": [
      "\n",
      "Available Categories:\n",
      "1. Food\n",
      "2. Drinks\n",
      "3. Bills\n",
      "4. Utilities\n",
      "5. Investment\n",
      "6. Transportation\n",
      "7. Shopping\n",
      "8. Medical\n",
      "9. Education\n",
      "10. Taxes\n",
      "11. Insurance\n",
      "12. Salary\n",
      "Invalid category name. Please try again.\n",
      "food\n"
     ]
    }
   ],
   "source": [
    "category = get_category().value\n",
    "print(category)"
   ]
  },
  {
   "cell_type": "code",
   "execution_count": 7,
   "id": "b8f378ba",
   "metadata": {},
   "outputs": [],
   "source": [
    "from tracker.tracker import Finance_Tracker"
   ]
  },
  {
   "cell_type": "code",
   "execution_count": 8,
   "id": "5e80bc1c",
   "metadata": {},
   "outputs": [
    {
     "name": "stdout",
     "output_type": "stream",
     "text": [
      "\n",
      "Available Categories:\n",
      "1. Food\n",
      "2. Drinks\n",
      "3. Bills\n",
      "4. Utilities\n",
      "5. Investment\n",
      "6. Transportation\n",
      "7. Shopping\n",
      "8. Medical\n",
      "9. Education\n",
      "10. Taxes\n",
      "11. Insurance\n",
      "12. Salary\n"
     ]
    }
   ],
   "source": [
    "tracker = Finance_Tracker()\n",
    "\n",
    "tracker.add_transaction()"
   ]
  },
  {
   "cell_type": "code",
   "execution_count": 10,
   "id": "d0296350",
   "metadata": {},
   "outputs": [
    {
     "ename": "AttributeError",
     "evalue": "'Finance_Tracker' object has no attribute 'show_transactions'",
     "output_type": "error",
     "traceback": [
      "\u001b[31m---------------------------------------------------------------------------\u001b[39m",
      "\u001b[31mAttributeError\u001b[39m                            Traceback (most recent call last)",
      "\u001b[36mCell\u001b[39m\u001b[36m \u001b[39m\u001b[32mIn[10]\u001b[39m\u001b[32m, line 1\u001b[39m\n\u001b[32m----> \u001b[39m\u001b[32m1\u001b[39m \u001b[43mtracker\u001b[49m\u001b[43m.\u001b[49m\u001b[43mshow_transactions\u001b[49m()\n",
      "\u001b[31mAttributeError\u001b[39m: 'Finance_Tracker' object has no attribute 'show_transactions'"
     ]
    }
   ],
   "source": [
    "tracker.show_transactions()"
   ]
  },
  {
   "cell_type": "code",
   "execution_count": 3,
   "id": "a4ec879b",
   "metadata": {},
   "outputs": [],
   "source": [
    "from tracker.enum import Category"
   ]
  },
  {
   "cell_type": "code",
   "execution_count": 33,
   "id": "4f786bff",
   "metadata": {},
   "outputs": [],
   "source": [
    "def get_category():\n",
    "    print(\"\\nAvailable Categories:\")\n",
    "    for idx, category in enumerate(Category, start=1):\n",
    "        print(f\"{idx}. {category.value.title()}\")  # No underscore replacement needed\n",
    "\n",
    "    while True:\n",
    "        user_input = input(\"Select a category by number or name: \").strip().lower()\n",
    "\n",
    "        if user_input.isdigit():\n",
    "            idx = int(user_input)\n",
    "            if 1 <= idx <= len(Category):\n",
    "                # print(\"Reaching over here: \", Category[list(Category)[idx-1]])\n",
    "                return list(Category)[idx - 1]\n",
    "            else:\n",
    "                print(\"Invalid number. Please choose a valid index.\")\n",
    "        else:\n",
    "            normalized_input = user_input.replace(\" \", \"\")\n",
    "            for category in Category:\n",
    "                if normalized_input == category.value.lower():\n",
    "                    return category\n",
    "            print(\"Invalid category name. Please try again.\")"
   ]
  },
  {
   "cell_type": "code",
   "execution_count": 34,
   "id": "2c48a07e",
   "metadata": {},
   "outputs": [
    {
     "name": "stdout",
     "output_type": "stream",
     "text": [
      "\n",
      "Available Categories:\n",
      "1. Food\n",
      "2. Drinks\n",
      "3. Bills\n",
      "4. Utilities\n",
      "5. Investment\n",
      "6. Transportation\n",
      "7. Shopping\n",
      "8. Medical\n",
      "9. Education\n",
      "10. Taxes\n",
      "11. Insurance\n",
      "12. Salary\n"
     ]
    },
    {
     "data": {
      "text/plain": [
       "<Category.FOOD: 'food'>"
      ]
     },
     "execution_count": 34,
     "metadata": {},
     "output_type": "execute_result"
    }
   ],
   "source": [
    "get_category()"
   ]
  },
  {
   "cell_type": "code",
   "execution_count": 8,
   "id": "6e9bda1a",
   "metadata": {},
   "outputs": [],
   "source": [
    "transactions = [{id: 1}, {id: 2}]\n",
    "next_id = len(transactions) + 1 if len(transactions)==0 else transactions[len(transactions)-1][id]+1"
   ]
  },
  {
   "cell_type": "code",
   "execution_count": 9,
   "id": "60cc84f7",
   "metadata": {},
   "outputs": [
    {
     "data": {
      "text/plain": [
       "3"
      ]
     },
     "execution_count": 9,
     "metadata": {},
     "output_type": "execute_result"
    }
   ],
   "source": [
    "next_id"
   ]
  },
  {
   "cell_type": "code",
   "execution_count": 10,
   "id": "fcd0eed3",
   "metadata": {},
   "outputs": [],
   "source": [
    "from tracker.enum import Category"
   ]
  },
  {
   "cell_type": "code",
   "execution_count": 12,
   "id": "7f7387d7",
   "metadata": {},
   "outputs": [
    {
     "name": "stdout",
     "output_type": "stream",
     "text": [
      "food\n",
      "drinks\n",
      "bills\n",
      "utilities\n",
      "investment\n",
      "transportation\n",
      "shopping\n",
      "medical\n",
      "education\n",
      "taxes\n",
      "insurance\n",
      "salary\n"
     ]
    }
   ],
   "source": [
    "for category in Category:\n",
    "    print(category.value)"
   ]
  },
  {
   "cell_type": "code",
   "execution_count": null,
   "id": "844ede48",
   "metadata": {},
   "outputs": [],
   "source": []
  }
 ],
 "metadata": {
  "kernelspec": {
   "display_name": "Python 3",
   "language": "python",
   "name": "python3"
  },
  "language_info": {
   "codemirror_mode": {
    "name": "ipython",
    "version": 3
   },
   "file_extension": ".py",
   "mimetype": "text/x-python",
   "name": "python",
   "nbconvert_exporter": "python",
   "pygments_lexer": "ipython3",
   "version": "3.12.9"
  }
 },
 "nbformat": 4,
 "nbformat_minor": 5
}
